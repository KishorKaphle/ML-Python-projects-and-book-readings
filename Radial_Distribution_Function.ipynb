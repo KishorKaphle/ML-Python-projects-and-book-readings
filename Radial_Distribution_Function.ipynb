{
  "nbformat": 4,
  "nbformat_minor": 0,
  "metadata": {
    "colab": {
      "provenance": [],
      "authorship_tag": "ABX9TyOGGLyjTEVFmPZEApKBuvlD",
      "include_colab_link": true
    },
    "kernelspec": {
      "name": "python3",
      "display_name": "Python 3"
    },
    "language_info": {
      "name": "python"
    }
  },
  "cells": [
    {
      "cell_type": "markdown",
      "metadata": {
        "id": "view-in-github",
        "colab_type": "text"
      },
      "source": [
        "<a href=\"https://colab.research.google.com/github/KishorKaphle/ML-Python-projects-and-book-readings/blob/main/Radial_Distribution_Function.ipynb\" target=\"_parent\"><img src=\"https://colab.research.google.com/assets/colab-badge.svg\" alt=\"Open In Colab\"/></a>"
      ]
    },
    {
      "cell_type": "code",
      "metadata": {
        "id": "MVXiDs8UI4RZ"
      },
      "source": [
        "#importing required libraries\n",
        "import MDAnalysis as mda\n",
        "import numpy as np\n",
        "import MDAnalysis.analysis.rdf\n",
        "import matplotlib.pyplot as plt\n",
        "\n",
        "#loading dataset\n",
        "u = mda.Universe('/content/S10_UW2M.pdb', '/content/S10_UW2M_dyn.dcd')\n",
        "\n",
        "class CG:\n",
        "  def __init__(self, ag):\n",
        "    self.ag = ag\n",
        "    self.universe = self.ag.universe\n",
        "    self.trajectory = self.ag.universe.trajectory\n",
        "\n",
        "  @property\n",
        "  def positions(self):\n",
        "    return np.array([self.ag.center_of_geometry()])\n",
        "\n",
        "  def __len__(self):\n",
        "    return 1\n",
        "\n",
        "#subject selection for RDF computation\n",
        "cg_selection = u.select_atoms('name C')\n",
        "cg_atom = CG(cg_selection.atoms)\n",
        "water = u.select_atoms('name H1' or 'name H2' or 'name OH*')\n",
        "\n",
        "#computation of RDF\n",
        "rdf = MDAnalysis.analysis.rdf.InterRDF(cg_atom, water)\n",
        "rdf.run()\n",
        "\n",
        "#Display\n",
        "plt.plot(rdf.bins, rdf.rdf)\n",
        "plt.title('RDF between C atoms and water')\n",
        "plt.xlabel('distribution of C atoms')\n",
        "plt.ylabel('distribution of water atoms')\n",
        "plt.show()"
      ],
      "execution_count": null,
      "outputs": []
    }
  ]
}